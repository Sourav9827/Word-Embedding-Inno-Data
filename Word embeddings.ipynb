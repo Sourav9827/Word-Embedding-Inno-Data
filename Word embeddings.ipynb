{
 "cells": [
  {
   "cell_type": "markdown",
   "id": "aed422c9-1725-4426-80e5-f617a54055d2",
   "metadata": {},
   "source": [
    "## Importing Necessary Librarries"
   ]
  },
  {
   "cell_type": "code",
   "execution_count": 1,
   "id": "90d813ad-5a94-40ed-9c58-4bc1588c5e41",
   "metadata": {},
   "outputs": [],
   "source": [
    "import numpy as np"
   ]
  },
  {
   "cell_type": "markdown",
   "id": "2a5d9548-482d-448b-bbd8-194c4ae9cf57",
   "metadata": {},
   "source": [
    "Function to load vectors"
   ]
  },
  {
   "cell_type": "code",
   "execution_count": 2,
   "id": "14f28e52-ea66-49fc-a469-6a5ba05af493",
   "metadata": {},
   "outputs": [],
   "source": [
    "def load_vectors(filename):\n",
    "  vectors = {}\n",
    "  with open(filename, encoding=\"utf8\") as f:\n",
    "    for line in f:\n",
    "      word, vec = line.strip().split(' ', 1)\n",
    "      vectors[word] = np.array([float(v) for v in vec.split(' ')])\n",
    "  return vectors"
   ]
  },
  {
   "cell_type": "markdown",
   "id": "d710479a-f413-4342-8583-8e5abc42f60e",
   "metadata": {},
   "source": [
    "Load Vectors"
   ]
  },
  {
   "cell_type": "code",
   "execution_count": 3,
   "id": "ddb64e9a-a3aa-435b-b9be-dfd60fd68b33",
   "metadata": {},
   "outputs": [],
   "source": [
    "FastText = load_vectors('wiki-news-300d-1M.vec/wiki-news-300d-1M.vec')\n",
    "Glove = load_vectors('glove.6B/glove.6B.300d.txt')"
   ]
  },
  {
   "cell_type": "markdown",
   "id": "0f1a8731-83ac-4f17-945b-c9f791873303",
   "metadata": {},
   "source": [
    "Function for cosine similarity"
   ]
  },
  {
   "cell_type": "code",
   "execution_count": 4,
   "id": "3a83afff-fc16-434c-843d-012b44860f59",
   "metadata": {},
   "outputs": [],
   "source": [
    "def cosine_similarity(vec1, vec2):\n",
    "  return np.dot(vec1, vec2) / (np.linalg.norm(vec1) * np.linalg.norm(vec2))"
   ]
  },
  {
   "cell_type": "markdown",
   "id": "451d21cd-9851-42d0-a7b8-bffc04e7bb65",
   "metadata": {},
   "source": [
    "Cosine Similarities for ‘ferrari’ and ‘chevrolet’"
   ]
  },
  {
   "cell_type": "code",
   "execution_count": 5,
   "id": "d3683222-e8a9-436b-a39b-61bc62f12c85",
   "metadata": {},
   "outputs": [],
   "source": [
    "cosine_similarity_fasttext = cosine_similarity(FastText['ferrari'], FastText['chevrolet'])\n",
    "cosine_similarity_glove = cosine_similarity(Glove['ferrari'], Glove['chevrolet'])"
   ]
  },
  {
   "cell_type": "code",
   "execution_count": 6,
   "id": "9bc83bad-0f9f-41c2-ac52-6611c777fa71",
   "metadata": {},
   "outputs": [
    {
     "name": "stdout",
     "output_type": "stream",
     "text": [
      "Cosine similarity of Ferrari and Chevrolet on FastText: 0.674\n",
      "Cosine similarity of Ferrari and Chevrolet on Glove: 0.352\n"
     ]
    }
   ],
   "source": [
    "print('Cosine similarity of Ferrari and Chevrolet on FastText:', round(cosine_similarity_fasttext, 3))\n",
    "print('Cosine similarity of Ferrari and Chevrolet on Glove:', round(cosine_similarity_glove, 3))"
   ]
  },
  {
   "cell_type": "markdown",
   "id": "dfba93a4-a9ab-4493-ae28-be01544e3273",
   "metadata": {},
   "source": [
    "Cosine Similarities for ‘ferrari’ and ‘banana’"
   ]
  },
  {
   "cell_type": "code",
   "execution_count": 7,
   "id": "7dba45f6-e928-42e1-9694-1dfd1811e5a2",
   "metadata": {},
   "outputs": [],
   "source": [
    "cosine_similarity_fasttext_banana = cosine_similarity(FastText['ferrari'], FastText['banana'])\n",
    "cosine_similarity_glove_banana = cosine_similarity(Glove['ferrari'], Glove['banana'])"
   ]
  },
  {
   "cell_type": "code",
   "execution_count": 8,
   "id": "012993b8-87ab-44a9-8f7d-6c20cd76f51d",
   "metadata": {},
   "outputs": [
    {
     "name": "stdout",
     "output_type": "stream",
     "text": [
      "Cosine similarity of Ferrari and Banana on FastText: 0.279\n",
      "Cosine similarity of Ferrari and Banana on Glove: -0.011\n"
     ]
    }
   ],
   "source": [
    "print('Cosine similarity of Ferrari and Banana on FastText:', round(cosine_similarity_fasttext_banana, 3))\n",
    "print('Cosine similarity of Ferrari and Banana on Glove:', round(cosine_similarity_glove_banana, 3))"
   ]
  },
  {
   "cell_type": "markdown",
   "id": "63aa3cca-8f4d-4b77-9620-32cf19cd7842",
   "metadata": {},
   "source": [
    "**Conclusion:**\n",
    "\n",
    "As we can see, the cosine similarities between Ferrari and Chevrolet are higher than the cosine similarities between Ferrari and Banana, on both FastText and Glove. This suggests that Ferrari and Chevrolet are more similar to each other than Ferrari and Banana.\n",
    "\n",
    "In other words, the word embeddings for Ferrari and Chevrolet are more similar to each other than the word embeddings for Ferrari and Banana. This is because Ferrari and Chevrolet are both cars, while Banana is a fruit. As a result, the word embeddings for Ferrari and Chevrolet are likely to have similar features, such as the fact that they are both nouns and that they both refer to objects that are used for transportation."
   ]
  },
  {
   "cell_type": "code",
   "execution_count": null,
   "id": "737ca52c-b754-453e-82a2-d987e0a7237f",
   "metadata": {},
   "outputs": [],
   "source": []
  }
 ],
 "metadata": {
  "kernelspec": {
   "display_name": "Python 3 (ipykernel)",
   "language": "python",
   "name": "python3"
  },
  "language_info": {
   "codemirror_mode": {
    "name": "ipython",
    "version": 3
   },
   "file_extension": ".py",
   "mimetype": "text/x-python",
   "name": "python",
   "nbconvert_exporter": "python",
   "pygments_lexer": "ipython3",
   "version": "3.10.0"
  }
 },
 "nbformat": 4,
 "nbformat_minor": 5
}
